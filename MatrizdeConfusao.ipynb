{
  "cells": [
    {
      "cell_type": "code",
      "execution_count": null,
      "metadata": {
        "colab": {
          "base_uri": "https://localhost:8080/"
        },
        "id": "uQNiHc6DRtZc",
        "outputId": "1f58cda3-3872-460c-8d64-a19c8d3b4669"
      },
      "outputs": [
        {
          "output_type": "stream",
          "name": "stdout",
          "text": [
            "\u001b[K     |████████████████████████████████| 380.8 MB 32 kB/s \n",
            "\u001b[K     |████████████████████████████████| 3.8 MB 36.8 MB/s \n",
            "\u001b[K     |████████████████████████████████| 449 kB 46.9 MB/s \n",
            "\u001b[K     |████████████████████████████████| 50 kB 2.4 MB/s \n",
            "\u001b[?25h  Building wheel for gast (setup.py) ... \u001b[?25l\u001b[?25hdone\n",
            "\u001b[31mERROR: pip's dependency resolver does not currently take into account all the packages that are installed. This behaviour is the source of the following dependency conflicts.\n",
            "tensorflow 2.8.2+zzzcolab20220719082949 requires tensorboard<2.9,>=2.8, but you have tensorboard 2.0.2 which is incompatible.\n",
            "tensorflow 2.8.2+zzzcolab20220719082949 requires tensorflow-estimator<2.9,>=2.8, but you have tensorflow-estimator 2.0.1 which is incompatible.\n",
            "tensorflow-probability 0.16.0 requires gast>=0.3.2, but you have gast 0.2.2 which is incompatible.\u001b[0m\n"
          ]
        }
      ],
      "source": [
        "!pip install -q tensorflow-gpu==2.0.0"
      ]
    },
    {
      "cell_type": "code",
      "execution_count": 20,
      "metadata": {
        "colab": {
          "base_uri": "https://localhost:8080/"
        },
        "id": "cGHwZmq2xwJ6",
        "outputId": "a1adfde1-9b2d-4ddd-e44c-eecb7bf69674"
      },
      "outputs": [
        {
          "output_type": "stream",
          "name": "stdout",
          "text": [
            "Looking in indexes: https://pypi.org/simple, https://us-python.pkg.dev/colab-wheels/public/simple/\n",
            "Collecting sklearn\n",
            "  Downloading sklearn-0.0.tar.gz (1.1 kB)\n",
            "Requirement already satisfied: scikit-learn in /usr/local/lib/python3.7/dist-packages (from sklearn) (1.0.2)\n",
            "Requirement already satisfied: joblib>=0.11 in /usr/local/lib/python3.7/dist-packages (from scikit-learn->sklearn) (1.1.0)\n",
            "Requirement already satisfied: numpy>=1.14.6 in /usr/local/lib/python3.7/dist-packages (from scikit-learn->sklearn) (1.21.6)\n",
            "Requirement already satisfied: threadpoolctl>=2.0.0 in /usr/local/lib/python3.7/dist-packages (from scikit-learn->sklearn) (3.1.0)\n",
            "Requirement already satisfied: scipy>=1.1.0 in /usr/local/lib/python3.7/dist-packages (from scikit-learn->sklearn) (1.7.3)\n",
            "Building wheels for collected packages: sklearn\n",
            "  Building wheel for sklearn (setup.py) ... \u001b[?25l\u001b[?25hdone\n",
            "  Created wheel for sklearn: filename=sklearn-0.0-py2.py3-none-any.whl size=1310 sha256=d1c342397f6816889a593b30a89bbf9f4485e67664a6d206458c2033d10dd3cd\n",
            "  Stored in directory: /root/.cache/pip/wheels/46/ef/c3/157e41f5ee1372d1be90b09f74f82b10e391eaacca8f22d33e\n",
            "Successfully built sklearn\n",
            "Installing collected packages: sklearn\n",
            "Successfully installed sklearn-0.0\n"
          ]
        }
      ],
      "source": [
        "!pip install sklearn"
      ]
    },
    {
      "cell_type": "code",
      "execution_count": 21,
      "metadata": {
        "id": "cFErpCRrR0BI"
      },
      "outputs": [],
      "source": [
        "from tensorflow.keras import datasets, layers, models\n",
        "import matplotlib.pyplot as plt\n",
        "import tensorflow as tf\n",
        "from sklearn.metrics import confusion_matrix\n",
        "import numpy as np\n",
        "import seaborn as sns\n",
        "import pandas as pd"
      ]
    },
    {
      "cell_type": "code",
      "execution_count": null,
      "metadata": {
        "id": "UNgNnZtRSWID"
      },
      "outputs": [],
      "source": [
        "%load_ext tensorboard"
      ]
    },
    {
      "cell_type": "code",
      "execution_count": null,
      "metadata": {
        "id": "0_QyBm4fSG1q"
      },
      "outputs": [],
      "source": [
        "logdir = \"log\""
      ]
    },
    {
      "cell_type": "code",
      "execution_count": null,
      "metadata": {
        "colab": {
          "base_uri": "https://localhost:8080/"
        },
        "id": "832XnWlLTaUx",
        "outputId": "f09b861f-1319-4030-91f3-b93568bf7182"
      },
      "outputs": [
        {
          "output_type": "stream",
          "name": "stdout",
          "text": [
            "Downloading data from https://storage.googleapis.com/tensorflow/tf-keras-datasets/mnist.npz\n",
            "11493376/11490434 [==============================] - 0s 0us/step\n"
          ]
        }
      ],
      "source": [
        "(train_images, train_labels), (test_images, test_labels) = datasets.mnist.load_data()\n",
        "\n",
        "\n",
        "train_images = train_images.reshape([60000,28,28,1])\n",
        "test_images = test_images.reshape([10000,28,28,1])\n",
        "train_images, test_images = train_images/255.0, test_images/ 225.0\n",
        "\n",
        "classes = [0,1,2,3,4,5,6,7,8,9]"
      ]
    },
    {
      "cell_type": "code",
      "execution_count": null,
      "metadata": {
        "id": "Vn8rstf9ZTrM"
      },
      "outputs": [],
      "source": [
        "model = models.Sequential()\n",
        "model.add(layers.Conv2D(32, (3,3), activation = \"relu\", input_shape= (28,28,1)))\n",
        "model.add(layers.MaxPooling2D((2,2)))\n",
        "model.add(layers.Conv2D(64,(3,3), activation = \"relu\"))\n",
        "model.add(layers.MaxPooling2D((2,2)))\n",
        "model.add(layers.Conv2D(64,(3,3), activation = \"relu\"))\n",
        "\n",
        "model.add(layers.Flatten())\n",
        "model.add(layers.Dense(64, activation = \"relu\"))\n",
        "model.add(layers.Dense(10, activation = \"softmax\"))"
      ]
    },
    {
      "cell_type": "code",
      "execution_count": null,
      "metadata": {
        "id": "K1-5CEgRg30W"
      },
      "outputs": [],
      "source": [
        "tensorboard_call = tf.keras.callbacks.TensorBoard(logdir, histogram_freq = 1)"
      ]
    },
    {
      "cell_type": "code",
      "execution_count": null,
      "metadata": {
        "colab": {
          "base_uri": "https://localhost:8080/"
        },
        "id": "5xKtkHYRh9Yn",
        "outputId": "9508e640-b3c3-4bf2-cefe-1dec229b7155"
      },
      "outputs": [
        {
          "output_type": "stream",
          "name": "stdout",
          "text": [
            "Train on 60000 samples, validate on 10000 samples\n",
            "Epoch 1/5\n",
            "60000/60000 [==============================] - 75s 1ms/sample - loss: 0.1406 - accuracy: 0.9564 - val_loss: 0.0411 - val_accuracy: 0.9870\n",
            "Epoch 2/5\n",
            "60000/60000 [==============================] - 93s 2ms/sample - loss: 0.0462 - accuracy: 0.9856 - val_loss: 0.0357 - val_accuracy: 0.9897\n",
            "Epoch 3/5\n",
            "60000/60000 [==============================] - 75s 1ms/sample - loss: 0.0327 - accuracy: 0.9899 - val_loss: 0.0275 - val_accuracy: 0.9914\n",
            "Epoch 4/5\n",
            "60000/60000 [==============================] - 69s 1ms/sample - loss: 0.0243 - accuracy: 0.9923 - val_loss: 0.0317 - val_accuracy: 0.9910\n",
            "Epoch 5/5\n",
            "60000/60000 [==============================] - 72s 1ms/sample - loss: 0.0215 - accuracy: 0.9930 - val_loss: 0.0353 - val_accuracy: 0.9891\n"
          ]
        },
        {
          "output_type": "execute_result",
          "data": {
            "text/plain": [
              "<tensorflow.python.keras.callbacks.History at 0x7f7772a90690>"
            ]
          },
          "metadata": {},
          "execution_count": 8
        }
      ],
      "source": [
        "model.compile(optimizer = \"adam\", loss = \"sparse_categorical_crossentropy\", metrics = [\"accuracy\"])\n",
        "model.fit(x=train_images, y=train_labels, epochs= 5, validation_data = (test_images, test_labels))"
      ]
    },
    {
      "cell_type": "code",
      "execution_count": null,
      "metadata": {
        "id": "Kzj0RWynnNL5"
      },
      "outputs": [],
      "source": [
        "y_true = test_labels\n",
        "y_pred = model.predict_classes(test_images)"
      ]
    },
    {
      "cell_type": "code",
      "execution_count": null,
      "metadata": {
        "colab": {
          "base_uri": "https://localhost:8080/",
          "height": 599
        },
        "id": "cFl0P000n75B",
        "outputId": "c3025842-b3a7-424e-9116-63638348c4b1"
      },
      "outputs": [
        {
          "output_type": "display_data",
          "data": {
            "text/plain": [
              "<Figure size 576x576 with 2 Axes>"
            ],
            "image/png": "[encoded data removed]"
          },
          "metadata": {
            "needs_background": "light"
          }
        }
      ],
      "source": [
        "con_mat = tf.math.confusion_matrix(labels=y_true, predictions = y_pred).numpy()\n",
        "con_mat_norm = np.around(con_mat.astype(\"float\") / con_mat.sum(axis=1)[:,np.newaxis], decimals = 2)\n",
        "con_mat_df = pd.DataFrame(con_mat_norm, index= classes, columns = classes)\n",
        "\n",
        "figure = plt.figure(figsize = (8,8))\n",
        "sns.heatmap(con_mat_df, annot = True, fmt = \".2%\", cmap = plt.cm.Blues)\n",
        "plt.tight_layout()\n",
        "plt.ylabel(\"True\")\n",
        "plt.xlabel(\"predictions\")\n",
        "con_mat_df\n",
        "plt.show()"
      ]
    },
    {
      "cell_type": "code",
      "execution_count": null,
      "metadata": {
        "colab": {
          "base_uri": "https://localhost:8080/"
        },
        "id": "EjoweMM_u_-z",
        "outputId": "8dd1363a-8857-4c75-8f84-72a0b3e74ec2"
      },
      "outputs": [
        {
          "output_type": "execute_result",
          "data": {
            "text/plain": [
              "[[4879, 56], [53, 5012]]"
            ]
          },
          "metadata": {},
          "execution_count": 12
        }
      ],
      "source": [
        "TP = 0\n",
        "TN = 0\n",
        "FN = 0\n",
        "FP = 0\n",
        "for i in range (0,len(classes)):\n",
        "  if(i%2 == 0):\n",
        "    TP = TP + con_mat[i,i]\n",
        "  if(i%2 != 0):\n",
        "    TN = TN + con_mat[i,i]\n",
        "  for j in range (0,len(classes)): \n",
        "    if(i>j): \n",
        "      FP = FP+ con_mat[i, j]\n",
        "    if(i<j):\n",
        "      FN = FN + con_mat[i, j] \n",
        "mconf=[[TP, FP], [FN, TN]] \n",
        "mconf"
      ]
    },
    {
      "cell_type": "code",
      "execution_count": null,
      "metadata": {
        "colab": {
          "base_uri": "https://localhost:8080/",
          "height": 400
        },
        "id": "veDpMFmpZhaf",
        "outputId": "204d1120-e1b5-4acf-94c4-7d548860239b"
      },
      "outputs": [
        {
          "output_type": "execute_result",
          "data": {
            "text/plain": [
              "<function matplotlib.pyplot.show(*args, **kw)>"
            ]
          },
          "metadata": {},
          "execution_count": 13
        },
        {
          "output_type": "display_data",
          "data": {
            "text/plain": [
              "<Figure size 360x360 with 2 Axes>"
            ],
            "image/png": "[encoded data removed]"
          },
          "metadata": {
            "needs_background": "light"
          }
        }
      ],
      "source": [
        "mconf_df = pd.DataFrame(mconf, index= [0,1], columns = [0,1])\n",
        "\n",
        "figure = plt.figure(figsize = (5,5))\n",
        "sns.heatmap(mconf_df, annot = True, cmap = plt.cm.Blues)\n",
        "plt.tight_layout()\n",
        "plt.ylabel(\"Verdadeiro\")\n",
        "plt.xlabel(\"previsões\") \n",
        "plt.show"
      ]
    },
    {
      "cell_type": "markdown",
      "source": [
        "Acuracia (Em porcentagem)"
      ],
      "metadata": {
        "id": "4jTy3QcZYT0A"
      }
    },
    {
      "cell_type": "code",
      "execution_count": null,
      "metadata": {
        "colab": {
          "base_uri": "https://localhost:8080/"
        },
        "id": "p697_mh8SC5a",
        "outputId": "732bac87-65e4-4c67-d1da-2a377f2562ca"
      },
      "outputs": [
        {
          "output_type": "stream",
          "name": "stdout",
          "text": [
            "98.91%\n"
          ]
        }
      ],
      "source": [
        "acuracy = ((TP + TN) / (TP+TN+FN+FP))*100\n",
        "print(str(acuracy) + \"%\")"
      ]
    },
    {
      "cell_type": "markdown",
      "source": [
        "Especificação (Em porcentagem)"
      ],
      "metadata": {
        "id": "Sijp3EnWhK7V"
      }
    },
    {
      "cell_type": "code",
      "source": [
        "esp = TN/(FP+TN) * 100\n",
        "print(str(esp) + \"%\")"
      ],
      "metadata": {
        "colab": {
          "base_uri": "https://localhost:8080/"
        },
        "id": "vutE6KaahQHI",
        "outputId": "546b78db-5d26-45e1-9e37-cd9cfe785d03"
      },
      "execution_count": 26,
      "outputs": [
        {
          "output_type": "stream",
          "name": "stdout",
          "text": [
            "98.89502762430939%\n"
          ]
        }
      ]
    },
    {
      "cell_type": "markdown",
      "source": [
        "Precisão (Em porcentagem)"
      ],
      "metadata": {
        "id": "Wx9mT1w7YZQH"
      }
    },
    {
      "cell_type": "code",
      "source": [
        "precisao = (TP)/(TP+FP) * 100\n",
        "print(str(precisao) + \"%\")"
      ],
      "metadata": {
        "colab": {
          "base_uri": "https://localhost:8080/"
        },
        "id": "ScTK7EiKYgNM",
        "outputId": "ea032f00-6db2-4b8a-f9d4-816ecb5c0317"
      },
      "execution_count": 22,
      "outputs": [
        {
          "output_type": "stream",
          "name": "stdout",
          "text": [
            "98.86524822695036%\n"
          ]
        }
      ]
    },
    {
      "cell_type": "markdown",
      "source": [
        "Sensibilidade (Em porcentagem)"
      ],
      "metadata": {
        "id": "7dudEfVxY5An"
      }
    },
    {
      "cell_type": "code",
      "source": [
        "sensibilidade = TP/(TP+FN)*100\n",
        "print(str(sensibilidade) + \"%\")"
      ],
      "metadata": {
        "id": "bufJkSFYY_Zj",
        "colab": {
          "base_uri": "https://localhost:8080/"
        },
        "outputId": "6794a4b7-7bd7-448a-a2d1-778ef953d7dc"
      },
      "execution_count": 24,
      "outputs": [
        {
          "output_type": "stream",
          "name": "stdout",
          "text": [
            "98.92538523925384%\n"
          ]
        }
      ]
    },
    {
      "cell_type": "markdown",
      "source": [
        "F-score (Em porcentagem)"
      ],
      "metadata": {
        "id": "ueFFuf1Agn-6"
      }
    },
    {
      "cell_type": "code",
      "source": [
        "fscore = 2*(precisao*sensibilidade)/(precisao+sensibilidade)\n",
        "print(str(fscore) + \"%\")"
      ],
      "metadata": {
        "colab": {
          "base_uri": "https://localhost:8080/"
        },
        "id": "uK4RXhIJguZX",
        "outputId": "28be4eac-36bc-47f8-cf07-9924083cca44"
      },
      "execution_count": 25,
      "outputs": [
        {
          "output_type": "stream",
          "name": "stdout",
          "text": [
            "98.89530759095976%\n"
          ]
        }
      ]
    }
  ],
  "metadata": {
    "colab": {
      "name": "MatrizdeConfusao.ipynb",
      "provenance": [],
      "collapsed_sections": []
    },
    "kernelspec": {
      "display_name": "Python 3",
      "name": "python3"
    },
    "language_info": {
      "name": "python"
    }
  },
  "nbformat": 4,
  "nbformat_minor": 0
}